{
 "cells": [
  {
   "cell_type": "markdown",
   "metadata": {},
   "source": [
    "## 고려대학교 빅데이터 청년인재 실습2(18.07.03) 조성표"
   ]
  },
  {
   "cell_type": "markdown",
   "metadata": {},
   "source": [
    "## Exercise105:ReverseOrder "
   ]
  },
  {
   "cell_type": "code",
   "execution_count": 2,
   "metadata": {},
   "outputs": [
    {
     "name": "stdout",
     "output_type": "stream",
     "text": [
      "정수를 입력하세요: 5\n",
      "정수를 입력하세요: 7\n",
      "정수를 입력하세요: 6\n",
      "정수를 입력하세요: 25\n",
      "정수를 입력하세요: 38\n",
      "정수를 입력하세요: 29\n",
      "정수를 입력하세요: 0\n",
      "29\n",
      "38\n",
      "25\n",
      "6\n",
      "7\n",
      "5\n"
     ]
    }
   ],
   "source": [
    "reverse_list = list()\n",
    "while True:\n",
    "    a = input(\"정수를 입력하세요: \")\n",
    "    if int(a) == 0:\n",
    "        for i in range(len(reverse_list)):\n",
    "            print(reverse_list[i])\n",
    "        break\n",
    "    num = int(a)\n",
    "    reverse_list.insert(0,num)"
   ]
  },
  {
   "cell_type": "markdown",
   "metadata": {},
   "source": [
    "## Exercise107:AvoidingDuplicates\n"
   ]
  },
  {
   "cell_type": "code",
   "execution_count": 7,
   "metadata": {},
   "outputs": [
    {
     "name": "stdout",
     "output_type": "stream",
     "text": [
      "first\n",
      "second\n",
      "third\n",
      "fourth\n",
      "second\n",
      "sixth\n",
      "fifth\n",
      "second\n",
      "first\n",
      "third\n",
      "\n",
      "first\n",
      "second\n",
      "third\n",
      "fourth\n",
      "sixth\n",
      "fifth\n"
     ]
    }
   ],
   "source": [
    "avoid_dup = list()\n",
    "while True:\n",
    "    words = input()\n",
    "    if words == '':\n",
    "        for i in range(len(avoid_dup)):\n",
    "            print(avoid_dup[i])\n",
    "        break\n",
    "    while words not in avoid_dup:\n",
    "        avoid_dup.append(words)"
   ]
  },
  {
   "cell_type": "code",
   "execution_count": 6,
   "metadata": {},
   "outputs": [
    {
     "name": "stdout",
     "output_type": "stream",
     "text": [
      "banana\n",
      "strawberry\n",
      "banana\n",
      "melon\n",
      "grape\n",
      "grapefruit\n",
      "melon\n",
      "banana\n",
      "strawberry\n",
      "\n",
      "banana\n",
      "strawberry\n",
      "melon\n",
      "grape\n",
      "grapefruit\n"
     ]
    }
   ],
   "source": [
    "word_list = []\n",
    "while True:\n",
    "    word = input()\n",
    "    \n",
    "    if word is \"\":\n",
    "        for i in range(len(word_list)):\n",
    "            print(word_list[i])\n",
    "        break\n",
    "    try:\n",
    "        word_list.index(word)\n",
    "    except:\n",
    "        word_list.append(word)"
   ]
  },
  {
   "cell_type": "markdown",
   "metadata": {},
   "source": [
    "## Exercise108:Negatives, Zeros and Positives"
   ]
  },
  {
   "cell_type": "code",
   "execution_count": 9,
   "metadata": {
    "scrolled": true
   },
   "outputs": [
    {
     "name": "stdout",
     "output_type": "stream",
     "text": [
      "Enter some integers: -2\n",
      "Enter some integers: -4\n",
      "Enter some integers: 0\n",
      "Enter some integers: -16\n",
      "Enter some integers: 26\n",
      "Enter some integers: 3\n",
      "Enter some integers: 6\n",
      "Enter some integers: 8\n",
      "Enter some integers: 0\n",
      "Enter some integers: \n",
      "-2\n",
      "-4\n",
      "-16\n",
      "0\n",
      "0\n",
      "26\n",
      "3\n",
      "6\n",
      "8\n"
     ]
    }
   ],
   "source": [
    "list_108 = []\n",
    "neg_list = []\n",
    "zero_list = []\n",
    "pos_list = []\n",
    "while True:\n",
    "    nums = input('Enter some integers: ')\n",
    "    if nums == '':\n",
    "        for i in range(len(list_108)):\n",
    "            print(list_108[i])\n",
    "        break\n",
    "    try:\n",
    "        if int(nums) == 0:\n",
    "            zero_list.append(int(nums))\n",
    "        elif int(nums) < 0:\n",
    "            neg_list.append(int(nums))\n",
    "        else:\n",
    "            pos_list.append(int(nums))\n",
    "        list_108 = neg_list + zero_list + pos_list\n",
    "    except:\n",
    "        print('Please enter only integers')"
   ]
  },
  {
   "cell_type": "markdown",
   "metadata": {},
   "source": [
    "## Exercise110: Perfect Numbers\n",
    " "
   ]
  },
  {
   "cell_type": "code",
   "execution_count": 4,
   "metadata": {},
   "outputs": [],
   "source": [
    "def perfect_num(num):\n",
    "    perf_sum = 0\n",
    "    for i in range(1, num):\n",
    "        if num % i == 0:\n",
    "            perf_sum += i\n",
    "    else:\n",
    "        if perf_sum == num:\n",
    "            return True\n",
    "        else:\n",
    "            return False"
   ]
  },
  {
   "cell_type": "code",
   "execution_count": 5,
   "metadata": {},
   "outputs": [
    {
     "data": {
      "text/plain": [
       "True"
      ]
     },
     "execution_count": 5,
     "metadata": {},
     "output_type": "execute_result"
    }
   ],
   "source": [
    "perfect_num(28)"
   ]
  },
  {
   "cell_type": "code",
   "execution_count": 8,
   "metadata": {},
   "outputs": [
    {
     "name": "stdout",
     "output_type": "stream",
     "text": [
      "[6, 28, 496, 8128]\n"
     ]
    }
   ],
   "source": [
    "list_110 = list()\n",
    "for j in range(1,10001):\n",
    "    if perfect_num(j) == True:\n",
    "        list_110.append(j)\n",
    "print(list_110)"
   ]
  },
  {
   "cell_type": "markdown",
   "metadata": {},
   "source": [
    "## Exercise113:Formatting a List "
   ]
  },
  {
   "cell_type": "code",
   "execution_count": 87,
   "metadata": {},
   "outputs": [],
   "source": [
    "def list_formatting(strings):\n",
    "    mapped_list = list(map(str, strings))\n",
    "    bunsho = ' and '.join(mapped_list)\n",
    "    bunsho = bunsho.replace(' and ', ', ', bunsho.count(' and ')-1)\n",
    "    return bunsho"
   ]
  },
  {
   "cell_type": "code",
   "execution_count": 89,
   "metadata": {},
   "outputs": [
    {
     "data": {
      "text/plain": [
       "'banana, 5, list, 72, Wow! and !'"
      ]
     },
     "execution_count": 89,
     "metadata": {},
     "output_type": "execute_result"
    }
   ],
   "source": [
    "list_formatting(['banana', 5, 'list', 72, 'Wow!', '!'])"
   ]
  },
  {
   "cell_type": "markdown",
   "metadata": {},
   "source": [
    "## Exercise114:RandomLotteryNumbers"
   ]
  },
  {
   "cell_type": "code",
   "execution_count": 42,
   "metadata": {},
   "outputs": [
    {
     "data": {
      "text/plain": [
       "[2, 11, 14, 41, 46, 47]"
      ]
     },
     "execution_count": 42,
     "metadata": {},
     "output_type": "execute_result"
    }
   ],
   "source": [
    "import random\n",
    "\n",
    "def lottery():\n",
    "    return sorted(random.sample(range(1,50),6))\n",
    "\n",
    "lottery()"
   ]
  },
  {
   "cell_type": "markdown",
   "metadata": {},
   "source": [
    "## Exercise134:UniqueCharacters"
   ]
  },
  {
   "cell_type": "code",
   "execution_count": 40,
   "metadata": {},
   "outputs": [],
   "source": [
    "def unique_char(string):\n",
    "    str_set = set(string)\n",
    "    return len(str_set)"
   ]
  },
  {
   "cell_type": "code",
   "execution_count": 41,
   "metadata": {},
   "outputs": [
    {
     "data": {
      "text/plain": [
       "10"
      ]
     },
     "execution_count": 41,
     "metadata": {},
     "output_type": "execute_result"
    }
   ],
   "source": [
    "unique_char('Hello, World!')"
   ]
  },
  {
   "cell_type": "markdown",
   "metadata": {},
   "source": [
    "## Exercise135:Anagrams"
   ]
  },
  {
   "cell_type": "code",
   "execution_count": 32,
   "metadata": {},
   "outputs": [],
   "source": [
    "from collections import Counter\n",
    "\n",
    "# 만약 Evil, Live의 경우 대소문자가 달라도 글자는 같은 글자이므로 같게 처리해줘야 한다\n",
    "def anagrams(x, y):\n",
    "    return not x.lower() == y.lower() and Counter(x.lower()) == Counter(y.lower())"
   ]
  },
  {
   "cell_type": "code",
   "execution_count": 33,
   "metadata": {},
   "outputs": [
    {
     "data": {
      "text/plain": [
       "True"
      ]
     },
     "execution_count": 33,
     "metadata": {},
     "output_type": "execute_result"
    }
   ],
   "source": [
    "anagrams('evil', 'live')"
   ]
  },
  {
   "cell_type": "code",
   "execution_count": 34,
   "metadata": {},
   "outputs": [
    {
     "data": {
      "text/plain": [
       "True"
      ]
     },
     "execution_count": 34,
     "metadata": {},
     "output_type": "execute_result"
    }
   ],
   "source": [
    "anagrams('word2vec', '2wordvec')"
   ]
  },
  {
   "cell_type": "code",
   "execution_count": 35,
   "metadata": {},
   "outputs": [
    {
     "data": {
      "text/plain": [
       "True"
      ]
     },
     "execution_count": 35,
     "metadata": {},
     "output_type": "execute_result"
    }
   ],
   "source": [
    "anagrams('Word2vec', '2wordvec')"
   ]
  }
 ],
 "metadata": {
  "kernelspec": {
   "display_name": "Python 3",
   "language": "python",
   "name": "python3"
  },
  "language_info": {
   "codemirror_mode": {
    "name": "ipython",
    "version": 3
   },
   "file_extension": ".py",
   "mimetype": "text/x-python",
   "name": "python",
   "nbconvert_exporter": "python",
   "pygments_lexer": "ipython3",
   "version": "3.6.4"
  }
 },
 "nbformat": 4,
 "nbformat_minor": 2
}
