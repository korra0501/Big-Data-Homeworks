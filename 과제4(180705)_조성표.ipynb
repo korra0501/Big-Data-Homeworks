{
 "cells": [
  {
   "cell_type": "markdown",
   "metadata": {},
   "source": [
    "## 고려대학교 빅데이터 청년인재 07.05 실습과제(조성표)"
   ]
  },
  {
   "cell_type": "markdown",
   "metadata": {},
   "source": [
    "## Exercise 82: Taxi Fare"
   ]
  },
  {
   "cell_type": "code",
   "execution_count": 6,
   "metadata": {},
   "outputs": [],
   "source": [
    "import math\n",
    "def taxi_fare(kilo):\n",
    "    fare = 4 + 0.25*(math.ceil(1000*kilo/140))\n",
    "    print('Total Taxi fare is ${:.2f}'.format(fare))"
   ]
  },
  {
   "cell_type": "code",
   "execution_count": 7,
   "metadata": {},
   "outputs": [
    {
     "name": "stdout",
     "output_type": "stream",
     "text": [
      "Total Taxi fare is $6.00\n"
     ]
    }
   ],
   "source": [
    "taxi_fare(1)"
   ]
  },
  {
   "cell_type": "code",
   "execution_count": 8,
   "metadata": {},
   "outputs": [
    {
     "name": "stdout",
     "output_type": "stream",
     "text": [
      "Total Taxi fare is $22.00\n"
     ]
    }
   ],
   "source": [
    "taxi_fare(10)"
   ]
  },
  {
   "cell_type": "markdown",
   "metadata": {},
   "source": [
    "## Exercise84: Median of Three Values"
   ]
  },
  {
   "cell_type": "code",
   "execution_count": 12,
   "metadata": {},
   "outputs": [],
   "source": [
    "def median_three():\n",
    "    a = int(input('First value: '))\n",
    "    b = int(input('Second value: '))\n",
    "    c = int(input('Third value: '))\n",
    "    value_list = sorted([a,b,c])\n",
    "    return value_list[1]"
   ]
  },
  {
   "cell_type": "code",
   "execution_count": 13,
   "metadata": {},
   "outputs": [
    {
     "name": "stdout",
     "output_type": "stream",
     "text": [
      "First value: 6\n",
      "Second value: 27\n",
      "Third value: 18\n"
     ]
    },
    {
     "data": {
      "text/plain": [
       "18"
      ]
     },
     "execution_count": 13,
     "metadata": {},
     "output_type": "execute_result"
    }
   ],
   "source": [
    "median_three()"
   ]
  },
  {
   "cell_type": "markdown",
   "metadata": {},
   "source": [
    "## Exercise 85: Convert an Integer to its Ordinal Number\n"
   ]
  },
  {
   "cell_type": "code",
   "execution_count": 14,
   "metadata": {},
   "outputs": [],
   "source": [
    "def convert_to_ordinal(num):\n",
    "    ordinals = {1:'first', 2:'second', 3:'third', 4:'fourth', 5:'fifth', 6:'sixth', 7:'seventh', 8:'eighth',\n",
    "               9:'nineth', 10:'tenth', 11:'eleventh', 12:'twelveth'}\n",
    "    if 0 < int(num) < 13:\n",
    "        return ordinals[int(num)]\n",
    "    else:\n",
    "        return ''"
   ]
  },
  {
   "cell_type": "code",
   "execution_count": 15,
   "metadata": {},
   "outputs": [
    {
     "data": {
      "text/plain": [
       "'tenth'"
      ]
     },
     "execution_count": 15,
     "metadata": {},
     "output_type": "execute_result"
    }
   ],
   "source": [
    "convert_to_ordinal(10)"
   ]
  },
  {
   "cell_type": "code",
   "execution_count": 17,
   "metadata": {},
   "outputs": [
    {
     "data": {
      "text/plain": [
       "''"
      ]
     },
     "execution_count": 17,
     "metadata": {},
     "output_type": "execute_result"
    }
   ],
   "source": [
    "convert_to_ordinal(13)"
   ]
  },
  {
   "cell_type": "code",
   "execution_count": 18,
   "metadata": {},
   "outputs": [
    {
     "name": "stdout",
     "output_type": "stream",
     "text": [
      "1 first\n",
      "2 second\n",
      "3 third\n",
      "4 fourth\n",
      "5 fifth\n",
      "6 sixth\n",
      "7 seventh\n",
      "8 eighth\n",
      "9 nineth\n",
      "10 tenth\n",
      "11 eleventh\n",
      "12 twelveth\n"
     ]
    }
   ],
   "source": [
    "# Main Program\n",
    "for i in range(1,13):\n",
    "    print(i, convert_to_ordinal(i))"
   ]
  },
  {
   "cell_type": "markdown",
   "metadata": {},
   "source": [
    "## Exercise88: Is it a Valid Triangle"
   ]
  },
  {
   "cell_type": "code",
   "execution_count": 81,
   "metadata": {},
   "outputs": [],
   "source": [
    "def form_triangle(x,y,z):\n",
    "    tri_list = [x,y,z]\n",
    "    longest = max(tri_list)\n",
    "    tri_list.remove(longest)\n",
    "    return longest < sum(tri_list)"
   ]
  },
  {
   "cell_type": "code",
   "execution_count": 82,
   "metadata": {},
   "outputs": [
    {
     "data": {
      "text/plain": [
       "False"
      ]
     },
     "execution_count": 82,
     "metadata": {},
     "output_type": "execute_result"
    }
   ],
   "source": [
    "form_triangle(6,2,2)"
   ]
  },
  {
   "cell_type": "code",
   "execution_count": 83,
   "metadata": {},
   "outputs": [
    {
     "data": {
      "text/plain": [
       "True"
      ]
     },
     "execution_count": 83,
     "metadata": {},
     "output_type": "execute_result"
    }
   ],
   "source": [
    "form_triangle(6,6,6)"
   ]
  },
  {
   "cell_type": "code",
   "execution_count": 84,
   "metadata": {},
   "outputs": [
    {
     "name": "stdout",
     "output_type": "stream",
     "text": [
      "2\n",
      "6\n",
      "6\n",
      "The triangle can be formed\n"
     ]
    }
   ],
   "source": [
    "# Program\n",
    "x = int(input())\n",
    "y = int(input())\n",
    "z = int(input())\n",
    "if form_triangle(x,y,z) == False:\n",
    "    print(\"The triangle can't be formed\")\n",
    "else:\n",
    "    print(\"The triangle can be formed\")"
   ]
  },
  {
   "cell_type": "markdown",
   "metadata": {},
   "source": [
    "## Exercise 92: Is a Number Prime?"
   ]
  },
  {
   "cell_type": "code",
   "execution_count": 76,
   "metadata": {},
   "outputs": [],
   "source": [
    "def is_prime(a):\n",
    "    return len([str(x) for x in range(1,a+1) if a%x==0]) == 2"
   ]
  },
  {
   "cell_type": "code",
   "execution_count": 77,
   "metadata": {},
   "outputs": [
    {
     "data": {
      "text/plain": [
       "True"
      ]
     },
     "execution_count": 77,
     "metadata": {},
     "output_type": "execute_result"
    }
   ],
   "source": [
    "is_prime(7)"
   ]
  },
  {
   "cell_type": "code",
   "execution_count": 78,
   "metadata": {},
   "outputs": [
    {
     "data": {
      "text/plain": [
       "True"
      ]
     },
     "execution_count": 78,
     "metadata": {},
     "output_type": "execute_result"
    }
   ],
   "source": [
    "is_prime(11)"
   ]
  },
  {
   "cell_type": "code",
   "execution_count": 79,
   "metadata": {},
   "outputs": [
    {
     "data": {
      "text/plain": [
       "False"
      ]
     },
     "execution_count": 79,
     "metadata": {},
     "output_type": "execute_result"
    }
   ],
   "source": [
    "is_prime(28)"
   ]
  },
  {
   "cell_type": "code",
   "execution_count": 86,
   "metadata": {},
   "outputs": [
    {
     "name": "stdout",
     "output_type": "stream",
     "text": [
      "23\n",
      "It is a Prime Number!\n"
     ]
    }
   ],
   "source": [
    "# Main Program\n",
    "a = int(input())\n",
    "if is_prime(a):\n",
    "    print('It is a Prime Number!')\n",
    "else:\n",
    "    print('It is not a Prime Number!')"
   ]
  },
  {
   "cell_type": "markdown",
   "metadata": {},
   "source": [
    "# 심화문제\n",
    "## Exercise 86:The Twelve Days of Christmas"
   ]
  },
  {
   "cell_type": "code",
   "execution_count": 105,
   "metadata": {},
   "outputs": [],
   "source": [
    "days = (('first', 'A Partridge in a pear tree'),\n",
    "   ('second', 'Two turtle doves'),\n",
    "   ('third', 'Three french hens'),\n",
    "   ('fourth', 'Four calling birds'),\n",
    "   ('fifth', 'Five golden rings'),\n",
    "   ('sixth', 'Six geese a laying'),\n",
    "   ('seventh', 'Seven swans a swimming'),\n",
    "   ('eighth', 'Eight maids a milking'),\n",
    "   ('ninth', 'Nine ladies dancing'),\n",
    "   ('tenth', 'Ten lords a leaping'),\n",
    "   ('eleventh', 'Eleven pipers piping'),\n",
    "   ('twelfth', '12 drummers drumming'))\n",
    "\n",
    "def twelve_days(day):\n",
    "    print('On the',days[day-1][0],'day of Christmas\\nmy true love sent to me:')\n",
    "    for i in range(day-1,-1,-1):\n",
    "        if day == 1:\n",
    "            print(days[0][1], end='.\\n\\n')\n",
    "        elif day != 1 and i == 0:\n",
    "            print('And a patridge in a pear tree.','\\n')\n",
    "        else:\n",
    "            print(days[i][1], end=',\\n')"
   ]
  },
  {
   "cell_type": "code",
   "execution_count": 110,
   "metadata": {},
   "outputs": [
    {
     "name": "stdout",
     "output_type": "stream",
     "text": [
      "On the fourth day of Christmas\n",
      "my true love sent to me:\n",
      "Four calling birds,\n",
      "Three french hens,\n",
      "Two turtle doves,\n",
      "And a patridge in a pear tree. \n",
      "\n"
     ]
    }
   ],
   "source": [
    "twelve_days(4)"
   ]
  },
  {
   "cell_type": "code",
   "execution_count": 111,
   "metadata": {
    "scrolled": true
   },
   "outputs": [
    {
     "name": "stdout",
     "output_type": "stream",
     "text": [
      "On the first day of Christmas\n",
      "my true love sent to me:\n",
      "A Partridge in a pear tree.\n",
      "\n",
      "On the second day of Christmas\n",
      "my true love sent to me:\n",
      "Two turtle doves,\n",
      "And a patridge in a pear tree. \n",
      "\n",
      "On the third day of Christmas\n",
      "my true love sent to me:\n",
      "Three french hens,\n",
      "Two turtle doves,\n",
      "And a patridge in a pear tree. \n",
      "\n",
      "On the fourth day of Christmas\n",
      "my true love sent to me:\n",
      "Four calling birds,\n",
      "Three french hens,\n",
      "Two turtle doves,\n",
      "And a patridge in a pear tree. \n",
      "\n",
      "On the fifth day of Christmas\n",
      "my true love sent to me:\n",
      "Five golden rings,\n",
      "Four calling birds,\n",
      "Three french hens,\n",
      "Two turtle doves,\n",
      "And a patridge in a pear tree. \n",
      "\n",
      "On the sixth day of Christmas\n",
      "my true love sent to me:\n",
      "Six geese a laying,\n",
      "Five golden rings,\n",
      "Four calling birds,\n",
      "Three french hens,\n",
      "Two turtle doves,\n",
      "And a patridge in a pear tree. \n",
      "\n",
      "On the seventh day of Christmas\n",
      "my true love sent to me:\n",
      "Seven swans a swimming,\n",
      "Six geese a laying,\n",
      "Five golden rings,\n",
      "Four calling birds,\n",
      "Three french hens,\n",
      "Two turtle doves,\n",
      "And a patridge in a pear tree. \n",
      "\n",
      "On the eighth day of Christmas\n",
      "my true love sent to me:\n",
      "Eight maids a milking,\n",
      "Seven swans a swimming,\n",
      "Six geese a laying,\n",
      "Five golden rings,\n",
      "Four calling birds,\n",
      "Three french hens,\n",
      "Two turtle doves,\n",
      "And a patridge in a pear tree. \n",
      "\n",
      "On the ninth day of Christmas\n",
      "my true love sent to me:\n",
      "Nine ladies dancing,\n",
      "Eight maids a milking,\n",
      "Seven swans a swimming,\n",
      "Six geese a laying,\n",
      "Five golden rings,\n",
      "Four calling birds,\n",
      "Three french hens,\n",
      "Two turtle doves,\n",
      "And a patridge in a pear tree. \n",
      "\n",
      "On the tenth day of Christmas\n",
      "my true love sent to me:\n",
      "Ten lords a leaping,\n",
      "Nine ladies dancing,\n",
      "Eight maids a milking,\n",
      "Seven swans a swimming,\n",
      "Six geese a laying,\n",
      "Five golden rings,\n",
      "Four calling birds,\n",
      "Three french hens,\n",
      "Two turtle doves,\n",
      "And a patridge in a pear tree. \n",
      "\n",
      "On the eleventh day of Christmas\n",
      "my true love sent to me:\n",
      "Eleven pipers piping,\n",
      "Ten lords a leaping,\n",
      "Nine ladies dancing,\n",
      "Eight maids a milking,\n",
      "Seven swans a swimming,\n",
      "Six geese a laying,\n",
      "Five golden rings,\n",
      "Four calling birds,\n",
      "Three french hens,\n",
      "Two turtle doves,\n",
      "And a patridge in a pear tree. \n",
      "\n",
      "On the twelfth day of Christmas\n",
      "my true love sent to me:\n",
      "12 drummers drumming,\n",
      "Eleven pipers piping,\n",
      "Ten lords a leaping,\n",
      "Nine ladies dancing,\n",
      "Eight maids a milking,\n",
      "Seven swans a swimming,\n",
      "Six geese a laying,\n",
      "Five golden rings,\n",
      "Four calling birds,\n",
      "Three french hens,\n",
      "Two turtle doves,\n",
      "And a patridge in a pear tree. \n",
      "\n"
     ]
    }
   ],
   "source": [
    "for x in range(1,13):\n",
    "    twelve_days(x)"
   ]
  },
  {
   "cell_type": "markdown",
   "metadata": {},
   "source": [
    "## 89. Capitalize It"
   ]
  },
  {
   "cell_type": "code",
   "execution_count": null,
   "metadata": {},
   "outputs": [],
   "source": []
  },
  {
   "cell_type": "markdown",
   "metadata": {},
   "source": [
    "## Exercise 90: Does a String Represent an Integer? "
   ]
  },
  {
   "cell_type": "code",
   "execution_count": null,
   "metadata": {},
   "outputs": [],
   "source": []
  },
  {
   "cell_type": "markdown",
   "metadata": {},
   "source": [
    "## Exercise 93: Next Prime "
   ]
  },
  {
   "cell_type": "markdown",
   "metadata": {},
   "source": [
    "아래의 nextPrime_temp 함수를 실행하면 n이 소수일 경우, 그 소수가 그대로 표시되는 문제가 있습니다. 그래서 이를 보완한 nextPrime 함수를 만들었습니다."
   ]
  },
  {
   "cell_type": "code",
   "execution_count": 39,
   "metadata": {},
   "outputs": [
    {
     "name": "stdout",
     "output_type": "stream",
     "text": [
      "7\n",
      "23\n"
     ]
    }
   ],
   "source": [
    "def nextPrime_temp(n):\n",
    "    while len([x for x in range(1,n+1) if n%x==0]) != 2:\n",
    "        n += 1\n",
    "        nextPrime_temp(n)\n",
    "    else:\n",
    "        return n\n",
    "\n",
    "print(nextPrime_temp(7))\n",
    "print(nextPrime_temp(20))"
   ]
  },
  {
   "cell_type": "code",
   "execution_count": 36,
   "metadata": {},
   "outputs": [],
   "source": [
    "def nextPrime(num):\n",
    "    if len([x for x in range(1,num+1) if num%x==0]) != 2: # if the input is not a prime number\n",
    "        return nextPrime_temp(num)\n",
    "    else: # if the input is a prime number\n",
    "        return nextPrime_temp(num+1)"
   ]
  },
  {
   "cell_type": "code",
   "execution_count": 37,
   "metadata": {},
   "outputs": [
    {
     "data": {
      "text/plain": [
       "11"
      ]
     },
     "execution_count": 37,
     "metadata": {},
     "output_type": "execute_result"
    }
   ],
   "source": [
    "nextPrime(7)"
   ]
  },
  {
   "cell_type": "code",
   "execution_count": 40,
   "metadata": {},
   "outputs": [
    {
     "name": "stdout",
     "output_type": "stream",
     "text": [
      "Input Number: 23\n",
      "Next Prime Number:  29\n"
     ]
    }
   ],
   "source": [
    "# Main Program\n",
    "num = int(input('Input Number: '))\n",
    "print('Next Prime Number: ',nextPrime(num))"
   ]
  },
  {
   "cell_type": "markdown",
   "metadata": {},
   "source": [
    "## Exercise 96: Check a Password"
   ]
  },
  {
   "cell_type": "code",
   "execution_count": 66,
   "metadata": {},
   "outputs": [],
   "source": [
    "def check_password(p):\n",
    "    if len(p) < 8 or p.islower() or p.isupper() or p.isdigit() or p.isalpha():\n",
    "        return False\n",
    "    else:\n",
    "        return True"
   ]
  },
  {
   "cell_type": "code",
   "execution_count": 70,
   "metadata": {},
   "outputs": [
    {
     "data": {
      "text/plain": [
       "False"
      ]
     },
     "execution_count": 70,
     "metadata": {},
     "output_type": "execute_result"
    }
   ],
   "source": [
    "check_password('ABSDDFSDFS423') # no lowercase letters"
   ]
  },
  {
   "cell_type": "code",
   "execution_count": 71,
   "metadata": {},
   "outputs": [
    {
     "data": {
      "text/plain": [
       "True"
      ]
     },
     "execution_count": 71,
     "metadata": {},
     "output_type": "execute_result"
    }
   ],
   "source": [
    "check_password('Password96')"
   ]
  },
  {
   "cell_type": "code",
   "execution_count": 72,
   "metadata": {},
   "outputs": [
    {
     "data": {
      "text/plain": [
       "False"
      ]
     },
     "execution_count": 72,
     "metadata": {},
     "output_type": "execute_result"
    }
   ],
   "source": [
    "check_password('Pas13') # only 5 characters"
   ]
  },
  {
   "cell_type": "code",
   "execution_count": 75,
   "metadata": {},
   "outputs": [
    {
     "name": "stdout",
     "output_type": "stream",
     "text": [
      "Enter Password: wejripo35Po\n",
      "Good Password!\n"
     ]
    }
   ],
   "source": [
    "# Main Program\n",
    "p = input('Enter Password: ')\n",
    "if check_password(p)==True:\n",
    "    print('Good Password!')\n",
    "else:\n",
    "    print('Bad Passowrd!')"
   ]
  }
 ],
 "metadata": {
  "kernelspec": {
   "display_name": "Python 3",
   "language": "python",
   "name": "python3"
  },
  "language_info": {
   "codemirror_mode": {
    "name": "ipython",
    "version": 3
   },
   "file_extension": ".py",
   "mimetype": "text/x-python",
   "name": "python",
   "nbconvert_exporter": "python",
   "pygments_lexer": "ipython3",
   "version": "3.6.4"
  }
 },
 "nbformat": 4,
 "nbformat_minor": 2
}
