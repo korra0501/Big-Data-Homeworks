{
 "cells": [
  {
   "cell_type": "markdown",
   "metadata": {},
   "source": [
    "## 고려대학교 빅데이터 청년인재 07.04 실습과제(조성표)"
   ]
  },
  {
   "cell_type": "markdown",
   "metadata": {},
   "source": [
    "### Exercise61:Average"
   ]
  },
  {
   "cell_type": "code",
   "execution_count": 3,
   "metadata": {},
   "outputs": [
    {
     "name": "stdout",
     "output_type": "stream",
     "text": [
      "정수를 입력하세요: 가나\n",
      "숫자만 입력해주세요!\n",
      "정수를 입력하세요: 0\n",
      "Error! 첫번째 숫자는 0을 입력하면 안됩니다.\n",
      "정수를 입력하세요: 6\n",
      "정수를 입력하세요: 8\n",
      "정수를 입력하세요: 36\n",
      "정수를 입력하세요: 243\n",
      "정수를 입력하세요: -63\n",
      "정수를 입력하세요: 0\n",
      "38.333333333333336\n"
     ]
    }
   ],
   "source": [
    "list_61 = list()\n",
    "count = 0\n",
    "while True:\n",
    "    a = input(\"정수를 입력하세요: \")\n",
    "    try:\n",
    "        num = int(a)\n",
    "        if int(a) is 0:\n",
    "            if count is 0:\n",
    "                print('Error! 첫번째 숫자는 0을 입력하면 안됩니다.')\n",
    "            else:\n",
    "                print(sum(list_61) / count)\n",
    "                break\n",
    "        list_61.append(num)\n",
    "        count += 1\n",
    "    except:\n",
    "        print('숫자만 입력해주세요!')"
   ]
  },
  {
   "cell_type": "markdown",
   "metadata": {},
   "source": [
    "## Exercise63:TemperatureConversionTable\n",
    " "
   ]
  },
  {
   "cell_type": "code",
   "execution_count": 16,
   "metadata": {},
   "outputs": [
    {
     "data": {
      "text/html": [
       "<div>\n",
       "<style scoped>\n",
       "    .dataframe tbody tr th:only-of-type {\n",
       "        vertical-align: middle;\n",
       "    }\n",
       "\n",
       "    .dataframe tbody tr th {\n",
       "        vertical-align: top;\n",
       "    }\n",
       "\n",
       "    .dataframe thead th {\n",
       "        text-align: right;\n",
       "    }\n",
       "</style>\n",
       "<table border=\"1\" class=\"dataframe\">\n",
       "  <thead>\n",
       "    <tr style=\"text-align: right;\">\n",
       "      <th></th>\n",
       "      <th>Celcius</th>\n",
       "      <th>Farenheit</th>\n",
       "    </tr>\n",
       "  </thead>\n",
       "  <tbody>\n",
       "    <tr>\n",
       "      <th>0</th>\n",
       "      <td>0</td>\n",
       "      <td>32.0</td>\n",
       "    </tr>\n",
       "    <tr>\n",
       "      <th>1</th>\n",
       "      <td>10</td>\n",
       "      <td>50.0</td>\n",
       "    </tr>\n",
       "    <tr>\n",
       "      <th>2</th>\n",
       "      <td>20</td>\n",
       "      <td>68.0</td>\n",
       "    </tr>\n",
       "    <tr>\n",
       "      <th>3</th>\n",
       "      <td>30</td>\n",
       "      <td>86.0</td>\n",
       "    </tr>\n",
       "    <tr>\n",
       "      <th>4</th>\n",
       "      <td>40</td>\n",
       "      <td>104.0</td>\n",
       "    </tr>\n",
       "    <tr>\n",
       "      <th>5</th>\n",
       "      <td>50</td>\n",
       "      <td>122.0</td>\n",
       "    </tr>\n",
       "    <tr>\n",
       "      <th>6</th>\n",
       "      <td>60</td>\n",
       "      <td>140.0</td>\n",
       "    </tr>\n",
       "    <tr>\n",
       "      <th>7</th>\n",
       "      <td>70</td>\n",
       "      <td>158.0</td>\n",
       "    </tr>\n",
       "    <tr>\n",
       "      <th>8</th>\n",
       "      <td>80</td>\n",
       "      <td>176.0</td>\n",
       "    </tr>\n",
       "    <tr>\n",
       "      <th>9</th>\n",
       "      <td>90</td>\n",
       "      <td>194.0</td>\n",
       "    </tr>\n",
       "    <tr>\n",
       "      <th>10</th>\n",
       "      <td>100</td>\n",
       "      <td>212.0</td>\n",
       "    </tr>\n",
       "  </tbody>\n",
       "</table>\n",
       "</div>"
      ],
      "text/plain": [
       "    Celcius  Farenheit\n",
       "0         0       32.0\n",
       "1        10       50.0\n",
       "2        20       68.0\n",
       "3        30       86.0\n",
       "4        40      104.0\n",
       "5        50      122.0\n",
       "6        60      140.0\n",
       "7        70      158.0\n",
       "8        80      176.0\n",
       "9        90      194.0\n",
       "10      100      212.0"
      ]
     },
     "execution_count": 16,
     "metadata": {},
     "output_type": "execute_result"
    }
   ],
   "source": [
    "import pandas as pd\n",
    "c_list = list(range(0, 101, 10))\n",
    "f_list = [x*1.8+32 for x in range(0, 101, 10)]\n",
    "\n",
    "d = {'Celcius':c_list, 'Farenheit':f_list}\n",
    "df = pd.DataFrame(d)\n",
    "df"
   ]
  },
  {
   "cell_type": "markdown",
   "metadata": {},
   "source": [
    "## Exercise66:Compute a Grade Point Average"
   ]
  },
  {
   "cell_type": "code",
   "execution_count": 21,
   "metadata": {},
   "outputs": [
    {
     "name": "stdout",
     "output_type": "stream",
     "text": [
      "Input Grade by alphabet: A+\n",
      "Input Grade by alphabet: A+\n",
      "Input Grade by alphabet: A\n",
      "Input Grade by alphabet: A\n",
      "Input Grade by alphabet: B+\n",
      "Input Grade by alphabet: B\n",
      "Input Grade by alphabet: C\n",
      "Input Grade by alphabet: \n",
      "이번학기 평균학점: 3.642857142857143\n"
     ]
    }
   ],
   "source": [
    "grade_dic = {'A+': 4.5, 'A': 4, 'B+': 3.5, 'B': 3, 'C+': 2.5, 'C': 2, \n",
    "             'D+': 1.5, 'D': 1, 'F': 0,}\n",
    "grade_list = []\n",
    "while True:\n",
    "    grade = input('Input Grade by alphabet: ')\n",
    "    if grade is '':\n",
    "        print('이번학기 평균학점:', sum(grade_list) / len(grade_list))\n",
    "        break\n",
    "    elif grade in grade_dic:\n",
    "        grade_list.append(grade_dic[grade])"
   ]
  },
  {
   "cell_type": "markdown",
   "metadata": {},
   "source": [
    "## Exercise67:AdmissionPrice"
   ]
  },
  {
   "cell_type": "code",
   "execution_count": 9,
   "metadata": {},
   "outputs": [
    {
     "name": "stdout",
     "output_type": "stream",
     "text": [
      "Input age of the guests: 6\n",
      "Input age of the guests: 25\n",
      "Input age of the guests: 15\n",
      "Input age of the guests: 73\n",
      "Input age of the guests: 45\n",
      "Input age of the guests: 37\n",
      "Input age of the guests: 26\n",
      "Input age of the guests: \n",
      "Admission cost for the group is 147.00$\n"
     ]
    }
   ],
   "source": [
    "price_dic = {'Babies': 0.00, 'Children': 14.00, 'Adult': 23.00, 'Senior': 18.00}\n",
    "price_list = []\n",
    "while True:\n",
    "    age_input = input('Input age of the guests: ')\n",
    "    if age_input is '':\n",
    "        print('Admission cost for the group is {:.2f}$'.format(sum(price_list)))\n",
    "        break\n",
    "    try:\n",
    "        age = int(age_input)\n",
    "        if 0 <= age <= 2:\n",
    "            price_list.append(price_dic['Babies'])\n",
    "        elif 3 <= age <= 12:\n",
    "            price_list.append(price_dic['Children'])\n",
    "        elif 13 <= age <= 64:\n",
    "            price_list.append(price_dic['Adult'])\n",
    "        else:\n",
    "            price_list.append(price_dic['Senior'])\n",
    "    except:\n",
    "        print('Please enter right numbers(age)')"
   ]
  },
  {
   "cell_type": "markdown",
   "metadata": {},
   "source": [
    "## Exercise72:Is a String a Palindrome?"
   ]
  },
  {
   "cell_type": "code",
   "execution_count": 29,
   "metadata": {},
   "outputs": [],
   "source": [
    "def is_palindrome(word):\n",
    "    word = word.lower()\n",
    "    if list(word) == list(reversed(word)):\n",
    "        print('Yes! It is a palindrome!')\n",
    "    else:\n",
    "        print('No! Try again.')"
   ]
  },
  {
   "cell_type": "code",
   "execution_count": 30,
   "metadata": {},
   "outputs": [
    {
     "name": "stdout",
     "output_type": "stream",
     "text": [
      "Yes! It is a palindrome!\n"
     ]
    }
   ],
   "source": [
    "is_palindrome('level')"
   ]
  },
  {
   "cell_type": "markdown",
   "metadata": {},
   "source": [
    "## Exercise74:MultiplicationTable"
   ]
  },
  {
   "cell_type": "code",
   "execution_count": 64,
   "metadata": {},
   "outputs": [
    {
     "name": "stdout",
     "output_type": "stream",
     "text": [
      "  1 2 3 4 5 6 7 8 9 10 \n",
      "\n",
      "1 1 2 3 4 5 6 7 8 9 10 \n",
      "\n",
      "2 2 4 6 8 10 12 14 16 18 20 \n",
      "\n",
      "3 3 6 9 12 15 18 21 24 27 30 \n",
      "\n",
      "4 4 8 12 16 20 24 28 32 36 40 \n",
      "\n",
      "5 5 10 15 20 25 30 35 40 45 50 \n",
      "\n",
      "6 6 12 18 24 30 36 42 48 54 60 \n",
      "\n",
      "7 7 14 21 28 35 42 49 56 63 70 \n",
      "\n",
      "8 8 16 24 32 40 48 56 64 72 80 \n",
      "\n",
      "9 9 18 27 36 45 54 63 72 81 90 \n",
      "\n",
      "10 10 20 30 40 50 60 70 80 90 100 \n",
      "\n"
     ]
    }
   ],
   "source": [
    "for i in range(0,11):\n",
    "    if i == 0:\n",
    "        print(' ', ' '.join(map(str, [x for x in range(1,11)])), '\\n')\n",
    "    else: \n",
    "        y = ' '.join(map(str, [i*x for x in range(1,11)]))\n",
    "        print(i, y, '\\n')   "
   ]
  },
  {
   "cell_type": "markdown",
   "metadata": {},
   "source": [
    "## Exercise75:GreatestCommonDivisor"
   ]
  },
  {
   "cell_type": "code",
   "execution_count": 67,
   "metadata": {},
   "outputs": [],
   "source": [
    "def gcd(n,m):\n",
    "    d = min(n,m)\n",
    "    while m%d!=0 or n%d!=0:\n",
    "        d -= 1\n",
    "    return d"
   ]
  },
  {
   "cell_type": "code",
   "execution_count": 71,
   "metadata": {},
   "outputs": [
    {
     "data": {
      "text/plain": [
       "5"
      ]
     },
     "execution_count": 71,
     "metadata": {},
     "output_type": "execute_result"
    }
   ],
   "source": [
    "gcd(25,65)"
   ]
  },
  {
   "cell_type": "markdown",
   "metadata": {},
   "source": [
    "## Exercise77:BinarytoDecimal"
   ]
  },
  {
   "cell_type": "code",
   "execution_count": 96,
   "metadata": {},
   "outputs": [],
   "source": [
    "def to_decimal(binary):\n",
    "    bin_string = str(binary)\n",
    "    rev = list(reversed(bin_string))\n",
    "    result = list()\n",
    "    for i in range(len(rev)):\n",
    "        result.append(int(rev[i]) *(2 ** i))\n",
    "    return sum(result)"
   ]
  },
  {
   "cell_type": "code",
   "execution_count": 97,
   "metadata": {},
   "outputs": [
    {
     "data": {
      "text/plain": [
       "14"
      ]
     },
     "execution_count": 97,
     "metadata": {},
     "output_type": "execute_result"
    }
   ],
   "source": [
    "to_decimal(1110)"
   ]
  },
  {
   "cell_type": "markdown",
   "metadata": {},
   "source": [
    "## Exercise78:DecimaltoBinary"
   ]
  },
  {
   "cell_type": "markdown",
   "metadata": {},
   "source": [
    "재귀적 방법을 쓴 것에 주의하자."
   ]
  },
  {
   "cell_type": "code",
   "execution_count": 90,
   "metadata": {},
   "outputs": [
    {
     "name": "stdout",
     "output_type": "stream",
     "text": [
      "1100100"
     ]
    }
   ],
   "source": [
    "def to_binary(q):\n",
    "    if q > 1:\n",
    "        to_binary(q//2)\n",
    "    print(q % 2, end='')\n",
    "    \n",
    "to_binary(100)"
   ]
  },
  {
   "cell_type": "code",
   "execution_count": null,
   "metadata": {},
   "outputs": [],
   "source": []
  }
 ],
 "metadata": {
  "kernelspec": {
   "display_name": "Python 3",
   "language": "python",
   "name": "python3"
  },
  "language_info": {
   "codemirror_mode": {
    "name": "ipython",
    "version": 3
   },
   "file_extension": ".py",
   "mimetype": "text/x-python",
   "name": "python",
   "nbconvert_exporter": "python",
   "pygments_lexer": "ipython3",
   "version": "3.6.4"
  }
 },
 "nbformat": 4,
 "nbformat_minor": 2
}
