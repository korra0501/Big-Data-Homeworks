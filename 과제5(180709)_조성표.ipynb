{
 "cells": [
  {
   "cell_type": "markdown",
   "metadata": {},
   "source": [
    "## 고려대학교 빅데이터 청년인제 실습 5(180709)\n",
    "#### 고려대학교 조성표"
   ]
  },
  {
   "cell_type": "code",
   "execution_count": 110,
   "metadata": {},
   "outputs": [],
   "source": [
    "import random\n",
    "import collections\n",
    "import pandas as pd\n",
    "\n",
    "def total_two_dice():\n",
    "    x = random.randint(1,6)\n",
    "    y = random.randint(1,6)\n",
    "    return x+y"
   ]
  },
  {
   "cell_type": "code",
   "execution_count": 124,
   "metadata": {},
   "outputs": [
    {
     "data": {
      "text/html": [
       "<div>\n",
       "<style scoped>\n",
       "    .dataframe tbody tr th:only-of-type {\n",
       "        vertical-align: middle;\n",
       "    }\n",
       "\n",
       "    .dataframe tbody tr th {\n",
       "        vertical-align: top;\n",
       "    }\n",
       "\n",
       "    .dataframe thead th {\n",
       "        text-align: right;\n",
       "    }\n",
       "</style>\n",
       "<table border=\"1\" class=\"dataframe\">\n",
       "  <thead>\n",
       "    <tr style=\"text-align: right;\">\n",
       "      <th></th>\n",
       "      <th>Simulated Percent</th>\n",
       "      <th>Expected Percent</th>\n",
       "    </tr>\n",
       "    <tr>\n",
       "      <th>Total</th>\n",
       "      <th></th>\n",
       "      <th></th>\n",
       "    </tr>\n",
       "  </thead>\n",
       "  <tbody>\n",
       "    <tr>\n",
       "      <th>2</th>\n",
       "      <td>3.8</td>\n",
       "      <td>2.78</td>\n",
       "    </tr>\n",
       "    <tr>\n",
       "      <th>3</th>\n",
       "      <td>6.1</td>\n",
       "      <td>5.56</td>\n",
       "    </tr>\n",
       "    <tr>\n",
       "      <th>4</th>\n",
       "      <td>6.3</td>\n",
       "      <td>8.33</td>\n",
       "    </tr>\n",
       "    <tr>\n",
       "      <th>5</th>\n",
       "      <td>9.6</td>\n",
       "      <td>11.11</td>\n",
       "    </tr>\n",
       "    <tr>\n",
       "      <th>6</th>\n",
       "      <td>15.8</td>\n",
       "      <td>13.89</td>\n",
       "    </tr>\n",
       "    <tr>\n",
       "      <th>7</th>\n",
       "      <td>17.0</td>\n",
       "      <td>16.67</td>\n",
       "    </tr>\n",
       "    <tr>\n",
       "      <th>8</th>\n",
       "      <td>14.7</td>\n",
       "      <td>13.89</td>\n",
       "    </tr>\n",
       "    <tr>\n",
       "      <th>9</th>\n",
       "      <td>9.6</td>\n",
       "      <td>11.11</td>\n",
       "    </tr>\n",
       "    <tr>\n",
       "      <th>10</th>\n",
       "      <td>8.4</td>\n",
       "      <td>8.33</td>\n",
       "    </tr>\n",
       "    <tr>\n",
       "      <th>11</th>\n",
       "      <td>5.0</td>\n",
       "      <td>5.56</td>\n",
       "    </tr>\n",
       "    <tr>\n",
       "      <th>12</th>\n",
       "      <td>3.7</td>\n",
       "      <td>2.78</td>\n",
       "    </tr>\n",
       "  </tbody>\n",
       "</table>\n",
       "</div>"
      ],
      "text/plain": [
       "       Simulated Percent  Expected Percent\n",
       "Total                                     \n",
       "2                    3.8              2.78\n",
       "3                    6.1              5.56\n",
       "4                    6.3              8.33\n",
       "5                    9.6             11.11\n",
       "6                   15.8             13.89\n",
       "7                   17.0             16.67\n",
       "8                   14.7             13.89\n",
       "9                    9.6             11.11\n",
       "10                   8.4              8.33\n",
       "11                   5.0              5.56\n",
       "12                   3.7              2.78"
      ]
     },
     "metadata": {},
     "output_type": "display_data"
    }
   ],
   "source": [
    "# Main Program\n",
    "\n",
    "# Calculating Simulated Percent\n",
    "sim = 1000\n",
    "dice_list = [total_two_dice() for x in range(sim)]\n",
    "simul_temp = {x:round(dice_list.count(x) / sim * 100, 2) for x in dice_list}\n",
    "simul_dict = dict(sorted(simul_temp.items()))\n",
    "\n",
    "# Expected Percent\n",
    "expect_dict = {2:2.78, 3:5.56, 4:8.33, 5:11.11, 6:13.89, 7:16.67, 8:13.89, 9:11.11, 10:8.33, 11:5.56, 12:2.78}\n",
    "\n",
    "# Make DataFrame from two dicts\n",
    "simul_df = pd.DataFrame.from_dict(simul_dict, orient='index')\n",
    "expect_df = pd.DataFrame.from_dict(expect_dict, orient='index')\n",
    "\n",
    "result = pd.concat([simul_df, expect_df], axis=1)\n",
    "result.columns = ['Simulated Percent', 'Expected Percent']\n",
    "result.index.name = 'Total'\n",
    "display(result)"
   ]
  },
  {
   "cell_type": "code",
   "execution_count": null,
   "metadata": {},
   "outputs": [],
   "source": []
  },
  {
   "cell_type": "markdown",
   "metadata": {},
   "source": [
    "## Exercise130:TextMessaging"
   ]
  },
  {
   "cell_type": "code",
   "execution_count": 95,
   "metadata": {},
   "outputs": [
    {
     "name": "stdout",
     "output_type": "stream",
     "text": [
      "Hello, World!\n",
      "4433555555666110966677755531111\n"
     ]
    }
   ],
   "source": [
    "dic = {1:['.',',','?','!',':'], 2:['A','B','C'], 3:['D','E','F'], 4:['G','H','I'],\n",
    "      5: ['J','K','L'], 6:['M','N','O'], 7:['P','Q','R','S'], 8:['T','U','V'],\n",
    "      9:['W','X','Y','Z'], 0:[' ']}\n",
    "\n",
    "words = input()\n",
    "\n",
    "# Make a new reversed dictionary\n",
    "newdict = dict()\n",
    "for k, v in dic.items():\n",
    "    for s in v:\n",
    "        newdict.setdefault(s, []).append(k)\n",
    "\n",
    "keypad = list()\n",
    "for w in words.upper():\n",
    "    num = newdict[w][0]\n",
    "    keypad.append(str(num)*(dic[num].index(w)+1))\n",
    "\n",
    "# print all elements in 'keypad' list by unpacking\n",
    "print(*keypad, sep='')"
   ]
  },
  {
   "cell_type": "markdown",
   "metadata": {},
   "source": [
    "## Exercise131:MorseCode"
   ]
  },
  {
   "cell_type": "code",
   "execution_count": 96,
   "metadata": {},
   "outputs": [
    {
     "name": "stdout",
     "output_type": "stream",
     "text": [
      "Enter Morse code: .... . .-.. .-.. --- .-- --- .-. .-.. -..\n",
      "HELLOWORLD\n"
     ]
    }
   ],
   "source": [
    "morse_dic ={ \"A\" : \".-\",\n",
    "            \"B\" : \"-...\",\n",
    "            \"C\" : \"-.-.\",\n",
    "            \"D\" : \"-..\",\n",
    "            \"E\" : \".\",\n",
    "            \"F\" : \"..-.\",\n",
    "            \"G\" : \"--.\",\n",
    "            \"H\" : \"....\",\n",
    "            \"I\" : \"..\",\n",
    "            \"J\" : \".---\",\n",
    "            \"K\" : \"-.-\",\n",
    "            \"L\" : \".-..\",\n",
    "            \"M\" : \"--\",\n",
    "            \"N\" : \"-.\",\n",
    "            \"O\" : \"---\",\n",
    "            \"P\" : \".--.\",\n",
    "            \"Q\" : \"--.-\",\n",
    "            \"R\" : \".-.\",\n",
    "            \"S\" : \"...\",\n",
    "            \"T\" : \"-\",\n",
    "            \"U\" : \"..-\",\n",
    "            \"V\" : \"...-\",\n",
    "            \"W\" : \".--\",\n",
    "            \"X\" : \"-..-\",\n",
    "            \"Y\" : \"-.--\",\n",
    "            \"Z\" : \"--..\",\n",
    "            \" \" : \"/\"}\n",
    "inv_morse_dict = dict((v,k) for (k,v) in morse_dic.items())\n",
    "\n",
    "split_input = input('Enter Morse code: ').split()\n",
    "message = [inv_morse_dict[seq] for seq in split_input]\n",
    "print(*message, sep='')"
   ]
  },
  {
   "cell_type": "markdown",
   "metadata": {},
   "source": [
    "## Exercise132:PostalCodes"
   ]
  },
  {
   "cell_type": "code",
   "execution_count": 107,
   "metadata": {
    "scrolled": true
   },
   "outputs": [
    {
     "name": "stdout",
     "output_type": "stream",
     "text": [
      "Enter Postal Code: X0A 1B2\n",
      "This postal code is for an rural address in Nunavut or Northwest Territories.\n"
     ]
    }
   ],
   "source": [
    "postal_dict = {'A':'Newfoundland', 'B':'Nova Scotia', 'C':'Prince Edward Island', 'E':'New Brunswick',\n",
    "              'G':'Quebec', 'H':'Quebec', 'J':'Quebec', 'K':'Ontario', 'L':'Ontario', 'M':'Ontario',\n",
    "              'N':'Ontario','P':'Ontario','R':'Manitoba','S':'Saskatchewan','T':'Alberta','V':'British Columbia',\n",
    "              'X':'Nunavut or Northwest Territories', 'Y':'Yukon', '0':'rural'}\n",
    "code = input('Enter Postal Code: ').upper()\n",
    "\n",
    "if code.startswith(('D','F','I','O','Q','U','W','Z'), 0, 1):\n",
    "    print('Plase enter valid postal code!')\n",
    "else:\n",
    "    if list(code)[1] != '0':\n",
    "        postal_dict[list(code)[1]] = 'urban'\n",
    "    print('This postal code is for an {} address in {}.'.format(postal_dict[list(code)[1]], postal_dict[list(code)[0]]))"
   ]
  }
 ],
 "metadata": {
  "kernelspec": {
   "display_name": "Python 3",
   "language": "python",
   "name": "python3"
  },
  "language_info": {
   "codemirror_mode": {
    "name": "ipython",
    "version": 3
   },
   "file_extension": ".py",
   "mimetype": "text/x-python",
   "name": "python",
   "nbconvert_exporter": "python",
   "pygments_lexer": "ipython3",
   "version": "3.6.4"
  }
 },
 "nbformat": 4,
 "nbformat_minor": 2
}
